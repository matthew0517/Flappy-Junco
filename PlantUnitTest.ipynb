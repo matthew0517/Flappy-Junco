{
 "cells": [
  {
   "cell_type": "code",
   "execution_count": 1,
   "metadata": {},
   "outputs": [],
   "source": [
    "import Plant\n",
    "from configurations import defaultConfig "
   ]
  },
  {
   "cell_type": "code",
   "execution_count": 5,
   "metadata": {},
   "outputs": [],
   "source": [
    "config = defaultConfig()\n",
    "plant = Plant.Plant(config)\n"
   ]
  }
 ],
 "metadata": {
  "kernelspec": {
   "display_name": "flappy-junco-env",
   "language": "python",
   "name": "python3"
  },
  "language_info": {
   "codemirror_mode": {
    "name": "ipython",
    "version": 3
   },
   "file_extension": ".py",
   "mimetype": "text/x-python",
   "name": "python",
   "nbconvert_exporter": "python",
   "pygments_lexer": "ipython3",
   "version": "3.10.9"
  },
  "orig_nbformat": 4,
  "vscode": {
   "interpreter": {
    "hash": "04dbf0d704803b979050f80c04d857b0b69993548decf609a7b5fbf065ab74b7"
   }
  }
 },
 "nbformat": 4,
 "nbformat_minor": 2
}
