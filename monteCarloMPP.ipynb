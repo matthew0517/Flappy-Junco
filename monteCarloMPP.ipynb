{
 "cells": [
  {
   "cell_type": "code",
   "execution_count": 1,
   "metadata": {},
   "outputs": [],
   "source": [
    "import Drone\n",
    "from configurations import defaultConfig \n",
    "import numpy as np\n",
    "from ConvexMotionPlanning import TrajGenMPP \n",
    "from plottingFunctions import state_plots_command, open_loop_plots\n"
   ]
  },
  {
   "cell_type": "code",
   "execution_count": 2,
   "metadata": {},
   "outputs": [
    {
     "name": "stdout",
     "output_type": "stream",
     "text": [
      "0\n",
      "1\n",
      "2\n",
      "[False] [False] [False] [False] [False] [False] [ True] [False] [False] [False] [False]\n",
      "3\n",
      "Obstacle Collision\n",
      "[False] [False] [False] [False] [False] [False] [ True] [False] [False] [False] [False]\n",
      "4\n",
      "[20, 20, 20, 19, 18]\n"
     ]
    }
   ],
   "source": [
    "samples = 1\n",
    "success = [0, 0, 0, 0, 0]\n",
    "obstacles = [0, 5, 10, 15, 20]\n",
    "for successIter in range(len(success)):\n",
    "    for i in range(samples):\n",
    "        # Drone instantiation\n",
    "        config = defaultConfig()\n",
    "        config.numObstacles = obstacles[successIter]\n",
    "        drone = Drone.Drone(config, config)\n",
    "\n",
    "        # Parameters\n",
    "        thrustCommandVal = 4.3\n",
    "        refStates = drone.coherentCommand(thrustCommandVal,0/180*np.pi)\n",
    "        controlRef = (thrustCommandVal, drone.elevatorFromAlpha(refStates[1]-refStates[3]))\n",
    "        iterations = 2000\n",
    "        iter = 0\n",
    "        pathDist = 100\n",
    "        stateRef = np.hstack(([0,50], refStates))\n",
    "        drone.reset(stateRef)\n",
    "\n",
    "        # Data\n",
    "        traj = np.zeros((7,iterations))\n",
    "        elvActual = np.zeros(iterations)\n",
    "        thrustCommand = np.zeros(iterations)+thrustCommandVal\n",
    "        stateCommand = drone.coherentCommand(thrustCommand[0],0/180*np.pi)\n",
    "        elivCommandRef = drone.elevatorFromAlpha(stateCommand[1]-stateCommand[3])\n",
    "        elivCommand = np.zeros(iterations) + elivCommandRef\n",
    "        xCommand = np.zeros(iterations)\n",
    "        yCommand = np.zeros(iterations)\n",
    "        refCommand = np.zeros((iterations, 4))\n",
    "        refCommand[0] = refStates\n",
    "\n",
    "        # Main loop\n",
    "        iter = 0\n",
    "        terminated = False\n",
    "        while iter < iterations and (not terminated):\n",
    "            action = [thrustCommand[iter], elivCommand[iter], refCommand[iter, :]] \n",
    "            observation, grid, reward, terminated = drone.step(action)\n",
    "            traj[:,iter] = np.hstack((drone.plant.state,drone.plant.time))\n",
    "            elvActual[iter] = drone.delta_e_actual\n",
    "            if(iter%pathDist == 0):\n",
    "                try:\n",
    "                    thrustCommand, elivCommand, xCommand, yCommand, refCommand = TrajGenMPP(drone, grid, thrustCommand, elivCommand, xCommand, yCommand, refStates, refCommand, thrustCommandVal,elivCommandRef, iterations, iter)\n",
    "                except:\n",
    "                    terminated = True\n",
    "            iter += 1\n",
    "        if (not terminated):\n",
    "            success[successIter] = success[successIter] + 1\n",
    "    print(successIter)\n",
    "print(success)"
   ]
  },
  {
   "cell_type": "code",
   "execution_count": null,
   "metadata": {},
   "outputs": [],
   "source": []
  }
 ],
 "metadata": {
  "kernelspec": {
   "display_name": "flappy-junco-env",
   "language": "python",
   "name": "python3"
  },
  "language_info": {
   "codemirror_mode": {
    "name": "ipython",
    "version": 3
   },
   "file_extension": ".py",
   "mimetype": "text/x-python",
   "name": "python",
   "nbconvert_exporter": "python",
   "pygments_lexer": "ipython3",
   "version": "3.10.9"
  },
  "orig_nbformat": 4
 },
 "nbformat": 4,
 "nbformat_minor": 2
}
