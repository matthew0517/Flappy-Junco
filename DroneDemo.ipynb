{
 "cells": [
  {
   "cell_type": "code",
   "execution_count": null,
   "metadata": {},
   "outputs": [],
   "source": [
    "import Plant\n",
    "import Drone\n",
    "from configurations import defaultConfig \n",
    "import numpy as np"
   ]
  },
  {
   "cell_type": "code",
   "execution_count": null,
   "metadata": {},
   "outputs": [],
   "source": [
    "import importlib\n",
    "importlib.reload(Drone)\n",
    "\n",
    "config = defaultConfig()\n",
    "plant = Plant.Plant(config)\n",
    "drone = Drone.Drone(config)"
   ]
  }
 ],
 "metadata": {
  "kernelspec": {
   "display_name": "flappy-junco-env",
   "language": "python",
   "name": "python3"
  },
  "language_info": {
   "name": "python",
   "version": "3.10.9 (main, Mar  8 2023, 10:47:38) [GCC 11.2.0]"
  },
  "orig_nbformat": 4,
  "vscode": {
   "interpreter": {
    "hash": "04dbf0d704803b979050f80c04d857b0b69993548decf609a7b5fbf065ab74b7"
   }
  }
 },
 "nbformat": 4,
 "nbformat_minor": 2
}
